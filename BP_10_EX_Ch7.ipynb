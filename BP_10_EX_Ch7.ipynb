{
  "nbformat": 4,
  "nbformat_minor": 0,
  "metadata": {
    "colab": {
      "provenance": [],
      "authorship_tag": "ABX9TyPxJlOVCGjzeDZLj0tVFKrs",
      "include_colab_link": true
    },
    "kernelspec": {
      "name": "python3",
      "display_name": "Python 3"
    },
    "language_info": {
      "name": "python"
    }
  },
  "cells": [
    {
      "cell_type": "markdown",
      "metadata": {
        "id": "view-in-github",
        "colab_type": "text"
      },
      "source": [
        "<a href=\"https://colab.research.google.com/github/12Jeongmin/-BP_10_EX_Ch7/blob/main/BP_10_EX_Ch7.ipynb\" target=\"_parent\"><img src=\"https://colab.research.google.com/assets/colab-badge.svg\" alt=\"Open In Colab\"/></a>"
      ]
    },
    {
      "cell_type": "code",
      "source": [
        "def print_address():       # 함수 생성 \n",
        "  print(\"서울특별시 종로구 1번지\")    # 함수를 쳤을때 나오는 문자열 설정\n",
        "  print(\"파이썬 빌딩 7층\")\n",
        "  print(\"홍길동\")"
      ],
      "metadata": {
        "id": "jweaOis2DwdU"
      },
      "execution_count": 5,
      "outputs": []
    },
    {
      "cell_type": "code",
      "source": [
        "print_address()         # 생성 된 함수 여러개 작성\n",
        "print_address()\n",
        "print_address()"
      ],
      "metadata": {
        "colab": {
          "base_uri": "https://localhost:8080/"
        },
        "id": "6Qw0viL4Dw97",
        "outputId": "65ba1012-7473-4031-84be-5ed7ea5afe0d"
      },
      "execution_count": 7,
      "outputs": [
        {
          "output_type": "stream",
          "name": "stdout",
          "text": [
            "서울특별시 종로구 1번지\n",
            "파이썬 빌딩 7층\n",
            "홍길동\n",
            "서울특별시 종로구 1번지\n",
            "파이썬 빌딩 7층\n",
            "홍길동\n",
            "서울특별시 종로구 1번지\n",
            "파이썬 빌딩 7층\n",
            "홍길동\n"
          ]
        }
      ]
    },
    {
      "cell_type": "code",
      "source": [
        "def print_address(name):             \n",
        "  print(\"서울특별시 종로구 1번지\")\n",
        "  print(\"파이썬 빌딩 7층\")\n",
        "  print(name)                 \n",
        "\n",
        "print_address(\"홍길동\")"
      ],
      "metadata": {
        "colab": {
          "base_uri": "https://localhost:8080/"
        },
        "id": "e0sgpiUwDxFT",
        "outputId": "6a0d9085-4e91-4dca-825f-0c76cb2f2183"
      },
      "execution_count": 8,
      "outputs": [
        {
          "output_type": "stream",
          "name": "stdout",
          "text": [
            "서울특별시 종로구 1번지\n",
            "파이썬 빌딩 7층\n",
            "홍길동\n"
          ]
        }
      ]
    },
    {
      "cell_type": "code",
      "execution_count": 1,
      "metadata": {
        "colab": {
          "base_uri": "https://localhost:8080/"
        },
        "id": "owE8cb0UBxdv",
        "outputId": "26bfb23e-33f1-4a70-87ab-8aa3f79a79e1"
      },
      "outputs": [
        {
          "output_type": "stream",
          "name": "stdout",
          "text": [
            "Happy Birthday to you!\n",
            "Happy Birthday to you!\n",
            "Happy Birthday, dear 홍길동\n",
            "Happy Birthday to you!\n"
          ]
        }
      ],
      "source": [
        "def happyBirthday(person):                   # 함수 선언하고 텍스트 값을 입력 받아서 그 값을 출력할 수 있도록 함수를 정의한다.\n",
        "   print(\"Happy Birthday to you!\") \n",
        "   print(\"Happy Birthday to you!\") \n",
        "   print(\"Happy Birthday, dear \" + person) \n",
        "   print(\"Happy Birthday to you!\")\n",
        "happyBirthday(\"홍길동\")"
      ]
    },
    {
      "cell_type": "code",
      "source": [
        "def sumProblem(x, y):                      # 수학 문제를 설정하는 함수를 설정후 print로 출력한다.                                     \n",
        "   sum = x + y\n",
        "   sentence = \"정수\" + str(x) + \"+\"+str(y)+\"의 합은?\"\n",
        "   print(sentence)\n",
        "\n",
        "def main():                                # 사용자로 부터 두개의 정수를 받기 위해 input함수 사용한다.\n",
        "  a = int(input(\"첫 번째 정수: \"))            \n",
        "  b = int(input(\"두 번째 정수: \"))\n",
        "  sumProblem(a, b)\n",
        "\n",
        "main()"
      ],
      "metadata": {
        "colab": {
          "base_uri": "https://localhost:8080/"
        },
        "id": "J0ZOl0iKB6vI",
        "outputId": "1342b9a6-85e1-46e1-898a-8f3dfd9e1f92"
      },
      "execution_count": 3,
      "outputs": [
        {
          "output_type": "stream",
          "name": "stdout",
          "text": [
            "첫 번째 정수: 10\n",
            "두 번째 정수: 20\n",
            "정수10+20의 합은?\n"
          ]
        }
      ]
    },
    {
      "cell_type": "code",
      "source": [
        "PI = 3.14159265358979                                   \n",
        "\n",
        "def circleArea(radius):                                 # 값을 입력받고, 값을 전달하는 함수를 만든다.\n",
        "  return PI*radius*radius\n",
        "\n",
        "  def circleCircumference(radius):                      #  면적을 구하는 공식과 둘레를 구하는 공식을 변수에 계산한다.\n",
        "       return 2*PI*radius\n",
        "\n",
        "def main():                                             # 구한 값을 print() 함수로 출력해준다.\n",
        "  print('반지름이 5인 원의 면적:', circleArea(5))\n",
        "  print('반지름이 5인 원의 둘레:', circleCircumference(5))\n",
        "\n",
        "main()"
      ],
      "metadata": {
        "colab": {
          "base_uri": "https://localhost:8080/"
        },
        "id": "Cz2skP0tCQUY",
        "outputId": "002919f9-de9b-4e69-ca26-173abb85466f"
      },
      "execution_count": 4,
      "outputs": [
        {
          "output_type": "stream",
          "name": "stdout",
          "text": [
            "반지름이 5인 원의 면적: 78.53981633974475\n",
            "반지름이 5인 원의 둘레: 31.4159265358979\n"
          ]
        }
      ]
    },
    {
      "cell_type": "code",
      "source": [
        "def add(a, b):                            # 함수를 만들어 덧셈을 설정\n",
        "  print( \"(%d + %d)\" % (a, b), end=\" \")\n",
        "  return a + b\n",
        "\n",
        "def subtract(a, b):                       # 함수를 만들어 뺄셈을 설정\n",
        "  print (\"(%d - %d)\" % (a, b), end=\" \")\n",
        "  return a - b\n",
        " \n",
        "def multiply(a, b):                       # 함수를 만들어 곱셈을 설정\n",
        "  print (\"(%d * %d)\" % (a, b), end=\" \")\n",
        "  return a * b\n",
        "\n",
        "def divide(a, b):                         # 함수를 만들어 나눗셈을 설정\n",
        "  print (\"(%d / %d)\" % (a, b), end=\" \")\n",
        "  return a / b\n",
        "\n",
        "what = add(20, 10)                        # 정수 입력 20과 10을 설정 후 프린트로 정답을 나타낸다.\n",
        "subtract(20,10)\n",
        "multiply(20,10)\n",
        "divide(20,10)                      \n",
        "\n",
        "print(\"= \", what)"
      ],
      "metadata": {
        "colab": {
          "base_uri": "https://localhost:8080/"
        },
        "id": "DMZtbdOaCXH4",
        "outputId": "79ff85cf-73b1-485a-d121-ccab96f953d9"
      },
      "execution_count": 16,
      "outputs": [
        {
          "output_type": "stream",
          "name": "stdout",
          "text": [
            "(20 + 10) (20 - 10) (20 * 10) (20 / 10) =  30\n"
          ]
        }
      ]
    }
  ]
}